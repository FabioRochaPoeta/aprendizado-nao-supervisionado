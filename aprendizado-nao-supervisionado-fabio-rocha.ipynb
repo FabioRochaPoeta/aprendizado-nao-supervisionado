{
 "cells": [
  {
   "attachments": {},
   "cell_type": "markdown",
   "metadata": {},
   "source": [
    "Chegamos no final da nossa disciplina de Aprendizado Não-Supervisionado e é hora de validar nosso conhecimento. As questões teóricas podem ser respondidas em slides ou doc em formato .PDF, e devem ser disponibilizadas junto com o código. \n",
    "\n",
    "O trabalho está dividido em 4 partes, como você pode observar a seguir. Para as questões a seguir, você deverá executar códigos em um notebook:\n",
    "\n",
    "Disponibilize os códigos gerados, assim como os artefatos acessórios (requirements.txt) e instruções em um repositório GIT público.\n",
    "Feature Engineering\n",
    "\n",
    "Resolva as questões do módulo do Kaggle de Feature Engineering: https://www.kaggle.com/learn/feature-engineering (O módulo 6 é opcional).\n",
    "\n",
    "Escolha de base de dados\n",
    "\n",
    "Para as questões a seguir, usaremos uma base de dados e faremos a análise exploratória dos dados, antes da clusterização.\n",
    "\n",
    "Baixe os dados disponibilizados na plataforma Kaggle sobre dados sócio-econômicos e de saúde que determinam o índice de desenvolvimento de um país. Esses dados estão disponibilizados através do link: https://www.kaggle.com/datasets/rohan0301/unsupervised-learning-on-country-data\n",
    "Quantos países existem no dataset?\n",
    "Mostre através de gráficos a faixa dinâmica das variáveis que serão usadas nas tarefas de clusterização. Analise os resultados mostrados. O que deve ser feito com os dados antes da etapa de clusterização?\n",
    "Realize o pré-processamento adequado dos dados.\n",
    "Clusterização\n",
    "\n",
    "Para os dados pré-processados da etapa anterior você irá:\n",
    "\n",
    "Realizar o agrupamento dos países em 3 grupos distintos. Para tal, use:\n",
    "K-Médias\n",
    "Clusterização Hierárquica\n",
    "Para os resultados, do K-Médias:\n",
    "Interprete cada um dos clusters obtidos citando:\n",
    "Qual a distribuição das dimensões em cada grupo;\n",
    "O país, de acordo com o algoritmo, melhor representa o seu agrupamento. Justifique.\n",
    "Para os resultados da Clusterização Hierárquica, apresente o dendograma e interprete os resultados.\n",
    "Compare os dois resultados, aponte as semelhanças e diferenças e interprete.\n",
    "Escolha de algoritmos\n",
    "\n",
    "Escreva em tópicos as etapas do algoritmo de K-médias até sua convergência.\n",
    "O algoritmo de K-médias converge até encontrar os centróides que melhor descrevem os clusters encontrados (até o deslocamento entre as interações dos centróides ser mínimo). Lembrando que o centróide é o baricentro do cluster em questão e não representa, em via de regra, um dado existente na base. Refaça o algoritmo apresentado na questão 1 a fim de garantir que o cluster seja representado pelo dado mais próximo ao seu baricentro em todas as iterações do algoritmo.\n",
    "Obs: nesse novo algoritmo, o dado escolhido será chamado medóide.\n",
    " O algoritmo de K-médias é sensível a outliers nos dados. Explique.\n",
    "Por que o algoritmo de DBScan é mais robusto à presença de outliers?\n",
    "Assim que terminar, salve o seu arquivo PDF e poste no Moodle. Utilize o seu nome para nomear o arquivo, identificando também a disciplina no seguinte formato: “nomedoaluno_nomedadisciplina_pd.PDF”.\n",
    "\n",
    "Boa sorte!"
   ]
  },
  {
   "attachments": {},
   "cell_type": "markdown",
   "metadata": {},
   "source": [
    " Disponibilize os códigos gerados, assim como os artefatos acessórios (requirements.txt) e instruções em um repositório GIT público:\n",
    " \n",
    " https://github.com/FabioRochaPoeta/aprendizado-nao-supervisionado.git\n"
   ]
  },
  {
   "cell_type": "markdown",
   "metadata": {},
   "source": [
    "Resolva as questões do módulo do Kaggle de Feature Engineering: https://www.kaggle.com/learn/feature-engineering (O módulo 6 é opcional):\n",
    "\n",
    "https://drive.google.com/file/d/1st_4whC8s7ZwL03522GL6rwNLeau9MVS/view?usp=drive_link"
   ]
  },
  {
   "attachments": {},
   "cell_type": "markdown",
   "metadata": {},
   "source": [
    "aixe os dados disponibilizados na plataforma Kaggle sobre dados sócio-econômicos e de saúde que determinam o índice de desenvolvimento de um país. Esses dados estão disponibilizados através do link: https://www.kaggle.com/datasets/rohan0301/unsupervised-learning-on-country-data\n",
    "Quantos países existem no dataset?"
   ]
  },
  {
   "cell_type": "markdown",
   "metadata": {},
   "source": []
  }
 ],
 "metadata": {
  "kernelspec": {
   "display_name": ".venv",
   "language": "python",
   "name": "python3"
  },
  "language_info": {
   "name": "python",
   "version": "3.10.10 (tags/v3.10.10:aad5f6a, Feb  7 2023, 17:20:36) [MSC v.1929 64 bit (AMD64)]"
  },
  "orig_nbformat": 4,
  "vscode": {
   "interpreter": {
    "hash": "5240272b95543b94f018cf21d4fe1ccbc715e7a89bd47c1778a11c10ba4dae1b"
   }
  }
 },
 "nbformat": 4,
 "nbformat_minor": 2
}
